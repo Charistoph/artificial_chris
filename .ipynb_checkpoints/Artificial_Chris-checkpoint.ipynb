{
 "cells": [
  {
   "cell_type": "markdown",
   "metadata": {},
   "source": [
    "# Artificial Chris\n",
    "\n",
    "The goal is to create a chatbot, given a variable length input sequence to output a variable length output that sounds like Chris is writing it."
   ]
  },
  {
   "cell_type": "code",
   "execution_count": 1,
   "metadata": {},
   "outputs": [],
   "source": [
    "import numpy as np\n",
    "import pandas as pd\n",
    "\n",
    "import os\n",
    "import re"
   ]
  },
  {
   "cell_type": "markdown",
   "metadata": {},
   "source": [
    "## Load Data from Txt"
   ]
  },
  {
   "cell_type": "code",
   "execution_count": 2,
   "metadata": {},
   "outputs": [],
   "source": [
    "data_folder = \"data\"\n",
    "txt_files = os.listdir(data_folder)"
   ]
  },
  {
   "cell_type": "code",
   "execution_count": 3,
   "metadata": {},
   "outputs": [],
   "source": [
    "def clean_name(name):\n",
    "    corr = re.sub('[^A-Za-z0-9öüäéè ]+', '', name)\n",
    "    if (corr[-1] == ' '):\n",
    "        corr = corr[:-1]\n",
    "    return corr"
   ]
  },
  {
   "cell_type": "code",
   "execution_count": 4,
   "metadata": {},
   "outputs": [],
   "source": [
    "def get_df_from_txt_file(file_name):\n",
    "    f = open(os.path.join(data_folder, file_name))\n",
    "    date = []\n",
    "    time = []\n",
    "    sender = []\n",
    "    reciever = []\n",
    "    message = []\n",
    "\n",
    "    partner_name = file_name[18:-4] + \": \"\n",
    "    chris_name = 'Christoph Bernkopf: '\n",
    "\n",
    "    for line in f:\n",
    "        if(len(line) < 2 or \"Nachrichten in diesem Chat sowie Anrufe\" in line):\n",
    "    #         print(\"skip line\")\n",
    "            continue\n",
    "        if(line[15:18] == \" - \" and line[2] == \".\" and line[5] == \".\"):\n",
    "            date.append(line[:8])\n",
    "            time.append(line[10:15])\n",
    "            if (chris_name in line[18:]):\n",
    "                sender.append(clean_name(chris_name[:-2]))\n",
    "                reciever.append(clean_name(partner_name[:-2]))\n",
    "            else:\n",
    "                reciever.append(clean_name(chris_name[:-2]))\n",
    "                sender.append(clean_name(partner_name[:-2]))\n",
    "            message.append(line[18:].replace(partner_name, '').replace(chris_name, ''))\n",
    "\n",
    "    df = pd.DataFrame(date, columns=['date'])\n",
    "    df['time'] = time\n",
    "    df['sender'] = sender\n",
    "    df['reciever'] = reciever\n",
    "    df['message'] = message\n",
    "\n",
    "    return df"
   ]
  },
  {
   "cell_type": "code",
   "execution_count": 5,
   "metadata": {},
   "outputs": [
    {
     "name": "stdout",
     "output_type": "stream",
     "text": [
      "WhatsApp Chat mit Lukas ⛵.txt\n",
      "(1958, 5) (1958, 5)\n",
      "WhatsApp Chat mit Max Frèremano 😏💚🍁.txt\n",
      "(11562, 5) (13520, 5)\n",
      "WhatsApp Chat mit Megan ).txt\n",
      "(8546, 5) (22066, 5)\n",
      "WhatsApp Chat mit Daniel TPH Rugby.txt\n",
      "(2659, 5) (24725, 5)\n",
      "WhatsApp Chat mit Mama 😷👀.txt\n",
      "(880, 5) (25605, 5)\n",
      "WhatsApp Chat mit Daniel TPH Rideclub Marik.txt\n",
      "(328, 5) (25933, 5)\n",
      "WhatsApp Chat mit Milica Modeschule.txt\n",
      "(1941, 5) (27874, 5)\n",
      "WhatsApp Chat mit Max Maxi Frühschütz Fabian.txt\n",
      "(2807, 5) (30681, 5)\n",
      "WhatsApp Chat mit Christoph Gerhardus ).txt\n",
      "(3823, 5) (34504, 5)\n",
      "WhatsApp Chat mit Alexander Götz.txt\n",
      "(1186, 5) (35690, 5)\n",
      "WhatsApp Chat mit Fabian Fürst.txt\n",
      "(25829, 5) (61519, 5)\n",
      "WhatsApp Chat mit Martin TPH CERN 3.txt\n",
      "(5326, 5) (66845, 5)\n"
     ]
    }
   ],
   "source": [
    "try:\n",
    "    del df\n",
    "except:\n",
    "    None\n",
    "\n",
    "for file_name in txt_files:\n",
    "    print(file_name)\n",
    "    curr_df = get_df_from_txt_file(file_name)\n",
    "    if ('df' in locals()):\n",
    "        df = pd.concat([df, curr_df])\n",
    "    else:\n",
    "        df = curr_df\n",
    "    df = df.reset_index(drop=True)\n",
    "    print(curr_df.shape, df.shape)"
   ]
  },
  {
   "cell_type": "markdown",
   "metadata": {},
   "source": [
    "## Aggregate Messages into Inputs and Targets"
   ]
  },
  {
   "cell_type": "code",
   "execution_count": 6,
   "metadata": {},
   "outputs": [],
   "source": [
    "remove_list = ['<Medien ausgeschlossen>', '\\n', 'Martin TPH CERN <3: ']\n",
    "\n",
    "for item in remove_list:\n",
    "    df['message'] = df['message'].apply(lambda x: x.replace(item, ''))\n",
    "    \n",
    "df = df[df['message'] != \"\"]"
   ]
  },
  {
   "cell_type": "code",
   "execution_count": 7,
   "metadata": {},
   "outputs": [
    {
     "data": {
      "text/plain": [
       "array(['Lukas', 'Christoph Bernkopf', 'Max Frèremano', 'Megan',\n",
       "       'Daniel TPH Rugby', 'Mama', 'Daniel TPH Rideclub Marik',\n",
       "       'Milica Modeschule', 'Max Maxi Frühschütz Fabian',\n",
       "       'Christoph Gerhardus', 'Alexander Götz', 'Fabian Fürst',\n",
       "       'Martin TPH CERN 3'], dtype=object)"
      ]
     },
     "execution_count": 7,
     "metadata": {},
     "output_type": "execute_result"
    }
   ],
   "source": [
    "df['sender'].unique()"
   ]
  },
  {
   "cell_type": "code",
   "execution_count": 8,
   "metadata": {},
   "outputs": [],
   "source": [
    "def get_message(i,j):\n",
    "    msg = df.iloc[i:j,df.columns.get_loc('message')].values\n",
    "    assert msg.shape[0] > 0\n",
    "\n",
    "    if (msg.shape[0] > 1):\n",
    "        inpu = msg[0]\n",
    "        for m in msg[1:]:\n",
    "            inpu = \"%s \\n %s\" % (inpu, m)\n",
    "    else:\n",
    "        inpu = msg[0]\n",
    "        \n",
    "    return inpu"
   ]
  },
  {
   "cell_type": "code",
   "execution_count": 16,
   "metadata": {},
   "outputs": [],
   "source": [
    "def get_agg_message(i, name):\n",
    "    col = df.columns.get_loc('reciever')\n",
    "    \n",
    "    for j in range(1000):\n",
    "        j = i + j\n",
    "        if (name == df.iloc[j,col]):\n",
    "            break    \n",
    "    inpu = get_message(i,j)\n",
    "        \n",
    "    for k in range(1000):\n",
    "        k = j + k\n",
    "        if (name != df.iloc[k,col]):\n",
    "            break\n",
    "    target = get_message(j,k)\n",
    "    \n",
    "    return inpu, target, k-1"
   ]
  },
  {
   "cell_type": "code",
   "execution_count": 17,
   "metadata": {},
   "outputs": [],
   "source": [
    "inp = []\n",
    "tar = []\n",
    "sen = []\n",
    "rec = []\n",
    "\n",
    "i = 0\n",
    "while i<(len(df)-10):\n",
    "# while i<15:\n",
    "    # get input & target\n",
    "    col = df.columns.get_loc('sender')\n",
    "    name = df.iloc[i,col]\n",
    "    next_names = df.iloc[i+1:i+10,col].values\n",
    "    if (name != \"Christoph Bernkopf\" and name in next_names):\n",
    "        inpu, target, i = get_agg_message(i, name)    \n",
    "        inp.append(inpu)\n",
    "        tar.append(target)\n",
    "        sen.append(name)\n",
    "        rec.append(\"Christoph Bernkopf\")\n",
    "    i += 1"
   ]
  },
  {
   "cell_type": "code",
   "execution_count": 18,
   "metadata": {},
   "outputs": [],
   "source": [
    "dfn = pd.DataFrame(inp, columns=['input'])\n",
    "dfn['target'] = tar\n",
    "dfn['sender'] = sen\n",
    "dfn['reciever'] = rec"
   ]
  },
  {
   "cell_type": "markdown",
   "metadata": {},
   "source": [
    "## A little bit of filtering"
   ]
  },
  {
   "cell_type": "code",
   "execution_count": 24,
   "metadata": {
    "scrolled": false
   },
   "outputs": [],
   "source": [
    "dfn = dfn[dfn['input'].astype('str').str.len()>20]"
   ]
  },
  {
   "cell_type": "code",
   "execution_count": 25,
   "metadata": {},
   "outputs": [
    {
     "data": {
      "text/html": [
       "<div>\n",
       "<style scoped>\n",
       "    .dataframe tbody tr th:only-of-type {\n",
       "        vertical-align: middle;\n",
       "    }\n",
       "\n",
       "    .dataframe tbody tr th {\n",
       "        vertical-align: top;\n",
       "    }\n",
       "\n",
       "    .dataframe thead th {\n",
       "        text-align: right;\n",
       "    }\n",
       "</style>\n",
       "<table border=\"1\" class=\"dataframe\">\n",
       "  <thead>\n",
       "    <tr style=\"text-align: right;\">\n",
       "      <th></th>\n",
       "      <th>input</th>\n",
       "      <th>target</th>\n",
       "      <th>sender</th>\n",
       "      <th>reciever</th>\n",
       "    </tr>\n",
       "  </thead>\n",
       "  <tbody>\n",
       "    <tr>\n",
       "      <th>0</th>\n",
       "      <td>Was gibts? Kann heut leider nicht</td>\n",
       "      <td>Was machst heute?</td>\n",
       "      <td>Lukas</td>\n",
       "      <td>Christoph Bernkopf</td>\n",
       "    </tr>\n",
       "    <tr>\n",
       "      <th>1</th>\n",
       "      <td>Lernen \\n Und bin bei einer maturafeier</td>\n",
       "      <td>Leinwand \\n Leiwand \\n Wann hast die letzte Pr...</td>\n",
       "      <td>Lukas</td>\n",
       "      <td>Christoph Bernkopf</td>\n",
       "    </tr>\n",
       "    <tr>\n",
       "      <th>3</th>\n",
       "      <td>Dreier! \\n Und 10ects ^^</td>\n",
       "      <td>Leiwand! \\n Wurde das so schnell kontrolliert?</td>\n",
       "      <td>Lukas</td>\n",
       "      <td>Christoph Bernkopf</td>\n",
       "    </tr>\n",
       "    <tr>\n",
       "      <th>5</th>\n",
       "      <td>Kann ich mir vorstellen \\n Alles gut gelaufen?</td>\n",
       "      <td>Ja bis jetzt schon einigermaßen \\n Aber ich ha...</td>\n",
       "      <td>Lukas</td>\n",
       "      <td>Christoph Bernkopf</td>\n",
       "    </tr>\n",
       "    <tr>\n",
       "      <th>9</th>\n",
       "      <td>Dr. Roberts \\n ^^ \\n , Gfr \\n Lol</td>\n",
       "      <td>Dr. Broberts \\n , Gfr 😂😂😂😂😂</td>\n",
       "      <td>Lukas</td>\n",
       "      <td>Christoph Bernkopf</td>\n",
       "    </tr>\n",
       "  </tbody>\n",
       "</table>\n",
       "</div>"
      ],
      "text/plain": [
       "                                            input  \\\n",
       "0               Was gibts? Kann heut leider nicht   \n",
       "1         Lernen \\n Und bin bei einer maturafeier   \n",
       "3                        Dreier! \\n Und 10ects ^^   \n",
       "5  Kann ich mir vorstellen \\n Alles gut gelaufen?   \n",
       "9               Dr. Roberts \\n ^^ \\n , Gfr \\n Lol   \n",
       "\n",
       "                                              target sender  \\\n",
       "0                                  Was machst heute?  Lukas   \n",
       "1  Leinwand \\n Leiwand \\n Wann hast die letzte Pr...  Lukas   \n",
       "3     Leiwand! \\n Wurde das so schnell kontrolliert?  Lukas   \n",
       "5  Ja bis jetzt schon einigermaßen \\n Aber ich ha...  Lukas   \n",
       "9                        Dr. Broberts \\n , Gfr 😂😂😂😂😂  Lukas   \n",
       "\n",
       "             reciever  \n",
       "0  Christoph Bernkopf  \n",
       "1  Christoph Bernkopf  \n",
       "3  Christoph Bernkopf  \n",
       "5  Christoph Bernkopf  \n",
       "9  Christoph Bernkopf  "
      ]
     },
     "execution_count": 25,
     "metadata": {},
     "output_type": "execute_result"
    }
   ],
   "source": [
    "dfn.head()"
   ]
  },
  {
   "cell_type": "code",
   "execution_count": 32,
   "metadata": {},
   "outputs": [],
   "source": [
    "dfn.to_pickle(os.path.join(data_folder, \"preprocessed_data.pkl\"))"
   ]
  },
  {
   "cell_type": "code",
   "execution_count": null,
   "metadata": {},
   "outputs": [],
   "source": []
  }
 ],
 "metadata": {
  "kernelspec": {
   "display_name": "Python 3",
   "language": "python",
   "name": "python3"
  },
  "language_info": {
   "codemirror_mode": {
    "name": "ipython",
    "version": 3
   },
   "file_extension": ".py",
   "mimetype": "text/x-python",
   "name": "python",
   "nbconvert_exporter": "python",
   "pygments_lexer": "ipython3",
   "version": "3.6.6"
  }
 },
 "nbformat": 4,
 "nbformat_minor": 2
}
